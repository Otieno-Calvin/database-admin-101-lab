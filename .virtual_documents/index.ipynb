








import pandas as pd 
import sqlite3 



# Create the database school.sqlite 
db = sqlite3.connect('school.sqlite')
cur = db.cursor()





cur.execute('''
    CREATE TABLE IF NOT EXISTS contactInfo (
        id INTEGER PRIMARY KEY AUTOINCREMENT,
        first_name TEXT NOT NULL,
        last_name TEXT NOT NULL,
        role TEXT NOT NULL,
        telephone TEXT NOT NULL,
        street TEXT NOT NULL,
        city TEXT NOT NULL,
        state TEXT NOT NULL,
        zipcode TEXT NOT NULL
    )
''')
db.commit()





# Load the list of dictionaries; just run this cell
import pickle

with open('contact_list.pickle', 'rb') as f:
    contacts = pickle.load(f)

contacts


# Iterate over the contact list and populate the contactInfo table here
for contact in contacts:
    cur.execute('''
        INSERT INTO contactInfo (first_name, last_name, role, telephone, street, city, state, zipcode)
        VALUES (?,?,?,?,?,?,?,?)
        ''' , (contact['firstName'],contact['lastName'],contact['role'],contact['telephone '],
               contact['street'],contact['city'],contact['state'],contact['zipcode ']))







# Your code here 
cur.execute('''
    SELECT * FROM contactInfo
    ''')

rows=cur.fetchall()
for row in rows:
    print(row)
    





db.commit()





cur.execute('''
    CREATE TABLE IF NOT EXISTS grades(
    userId INTEGER NOT NULL,
    courseId INTEGER NOT NULL,
    grade INTEGER NOT NULL,
    PRIMARY KEY(userId,courseId))
    ''')





# Find the duplicate entry
cur.execute('''
    SELECT first_name, last_name, telephone, COUNT(*)
    FROM contactInfo
    GROUP BY first_name, last_name, telephone
    HAVING COUNT(*) > 1
''').fetchall()



# Delete the duplicate entry
cur.execute('''
    DELETE FROM contactInfo
    WHERE id NOT IN (
        SELECT MIN(id)
        FROM contactInfo
        GROUP BY first_name, last_name, telephone)
''')


# Check that the duplicate entry was removed
cur.execute('''
    SELECT first_name, last_name, telephone, COUNT(*)
    FROM contactInfo
    GROUP BY first_name, last_name, telephone
    HAVING COUNT(*) > 1
''').fetchall()






# Update Ed's address
# Query the database to ensure the change was made
address_details = {
    'street': '2910 Simpson Avenue',
    'city': 'York',
    'state': 'PA',
    'zipcode': '174303'
}


cur.execute("""
UPDATE contactInfo
SET street = ?,
    city = ?,
    state = ?,
    zipcode = ?
WHERE first_name = 'Ed'  
""", (address_details['street'], address_details['city'], address_details['state'], address_details['zipcode']))



cur.execute('''
    SELECT * FROM contactInfo
    ''')

rows=cur.fetchall()
for row in rows:
    print(row)
    





# Your code here
db.commit()



